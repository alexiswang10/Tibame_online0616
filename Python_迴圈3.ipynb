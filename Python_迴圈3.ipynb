{
  "nbformat": 4,
  "nbformat_minor": 0,
  "metadata": {
    "colab": {
      "provenance": [],
      "authorship_tag": "ABX9TyMomTSvW0VoGkdUfMF7qi1p",
      "include_colab_link": true
    },
    "kernelspec": {
      "name": "python3",
      "display_name": "Python 3"
    },
    "language_info": {
      "name": "python"
    }
  },
  "cells": [
    {
      "cell_type": "markdown",
      "metadata": {
        "id": "view-in-github",
        "colab_type": "text"
      },
      "source": [
        "<a href=\"https://colab.research.google.com/github/alexiswang10/Tibame_online0616/blob/main/Python_%E8%BF%B4%E5%9C%883.ipynb\" target=\"_parent\"><img src=\"https://colab.research.google.com/assets/colab-badge.svg\" alt=\"Open In Colab\"/></a>"
      ]
    },
    {
      "cell_type": "markdown",
      "source": [
        "**＃判斷迴圈＃**"
      ],
      "metadata": {
        "id": "ZhOVnhqpuYWX"
      }
    },
    {
      "cell_type": "code",
      "execution_count": 26,
      "metadata": {
        "id": "DakNRAS4ibSS",
        "outputId": "4dffc8bb-4d7e-402e-ecf8-8ba2fda9a1fc",
        "colab": {
          "base_uri": "https://localhost:8080/",
          "height": 110
        }
      },
      "outputs": [
        {
          "output_type": "error",
          "ename": "SyntaxError",
          "evalue": "invalid character '＝' (U+FF1D) (ipython-input-26-2377513710.py, line 38)",
          "traceback": [
            "\u001b[0;36m  File \u001b[0;32m\"/tmp/ipython-input-26-2377513710.py\"\u001b[0;36m, line \u001b[0;32m38\u001b[0m\n\u001b[0;31m    ｉ＝１\u001b[0m\n\u001b[0m     ^\u001b[0m\n\u001b[0;31mSyntaxError\u001b[0m\u001b[0;31m:\u001b[0m invalid character '＝' (U+FF1D)\n"
          ]
        }
      ],
      "source": [
        "# 判斷迴圈 #\n",
        "\n",
        "\n",
        "\n",
        "import random\n",
        "\n",
        "win, lose=(0, 0)\n",
        "\n",
        "while win < 3:\n",
        "  #\n",
        "  result=random.randint(-1, 1)\n",
        "  print(result)\n",
        "\n",
        "\n",
        "\n",
        "\n",
        "\n",
        "\n",
        "\n",
        "\n",
        "\n",
        "# 印出十位小數，並增加提早停止時間#\n",
        "\n",
        "\n",
        "win_lose = (0,0)\n",
        "\n",
        "\n",
        "\n",
        "i = 1\n",
        "\n",
        "while i < 10:\n",
        "\n",
        "\n",
        " i = 1\n",
        "\n",
        " while i < 10:\n",
        "win_lose = (0,0)\n",
        "\n",
        "\n",
        "i = 1\n",
        "\n",
        "while i < 10:\n",
        "\n",
        "\n",
        "ｉ＝１\n",
        "\n",
        "ｗｈｉｌｅ　ｉ　＜　１０\n",
        "\n",
        "\n",
        "\n"
      ]
    },
    {
      "cell_type": "code",
      "source": [],
      "metadata": {
        "id": "A0uneRZjuwSY"
      },
      "execution_count": null,
      "outputs": []
    }
  ]
}