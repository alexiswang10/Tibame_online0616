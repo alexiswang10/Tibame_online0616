{
  "nbformat": 4,
  "nbformat_minor": 0,
  "metadata": {
    "colab": {
      "provenance": [],
      "include_colab_link": true
    },
    "kernelspec": {
      "name": "python3",
      "display_name": "Python 3"
    },
    "language_info": {
      "name": "python"
    }
  },
  "cells": [
    {
      "cell_type": "markdown",
      "metadata": {
        "id": "view-in-github",
        "colab_type": "text"
      },
      "source": [
        "<a href=\"https://colab.research.google.com/github/alexiswang10/Tibame_online0616/blob/main/%E3%80%8Ctibame_20250712.ipynb\" target=\"_parent\"><img src=\"https://colab.research.google.com/assets/colab-badge.svg\" alt=\"Open In Colab\"/></a>"
      ]
    },
    {
      "cell_type": "code",
      "execution_count": null,
      "metadata": {
        "id": "DtGDZjGfMBs3"
      },
      "outputs": [],
      "source": [
        "# os.path\n",
        "import os\n",
        "if not os.path.exists(\"a\"):\n",
        "    os.makedirs(\"a\")"
      ]
    },
    {
      "cell_type": "code",
      "source": [
        "# 第三方函式庫: requests\n",
        "import requests\n",
        "\n",
        "url = \"https://tabelog.com/tw/tokyo/rstLst/?SrtT=rt\"\n",
        "h = {\n",
        "    \"User-Agent\":\"Mozilla/5.0 (Windows NT 10.0; Win64; x64) AppleWebKit/537.36 (KHTML, like Gecko) Chrome/138.0.0.0 Safari/537.36 Edg/138.0.0.0\",\n",
        "}\n",
        "# urlopen -> requests.get\n",
        "resp = requests.get(url, headers=h)\n",
        "# content = resp.read()\n",
        "content = resp.text\n",
        "print(type(content))"
      ],
      "metadata": {
        "colab": {
          "base_uri": "https://localhost:8080/"
        },
        "id": "XxG5qG6LOuG4",
        "outputId": "0d33d635-377c-48fa-95ce-6a0ebcd08829"
      },
      "execution_count": null,
      "outputs": [
        {
          "output_type": "stream",
          "name": "stdout",
          "text": [
            "<class 'str'>\n"
          ]
        }
      ]
    },
    {
      "cell_type": "code",
      "source": [
        "resp.request.headers\n",
        "# resp.status_code"
      ],
      "metadata": {
        "colab": {
          "base_uri": "https://localhost:8080/"
        },
        "id": "9esidlxwRCwj",
        "outputId": "cd582c2d-c62a-4467-d419-9e1dfda42413"
      },
      "execution_count": null,
      "outputs": [
        {
          "output_type": "execute_result",
          "data": {
            "text/plain": [
              "{'User-Agent': 'Mozilla/5.0 (Windows NT 10.0; Win64; x64) AppleWebKit/537.36 (KHTML, like Gecko) Chrome/138.0.0.0 Safari/537.36 Edg/138.0.0.0', 'Accept-Encoding': 'gzip, deflate, zstd', 'Accept': '*/*', 'Connection': 'keep-alive'}"
            ]
          },
          "metadata": {},
          "execution_count": 10
        }
      ]
    },
    {
      "cell_type": "code",
      "source": [
        "import requests\n",
        "\n",
        "url = \"https://i.imgur.com/OSwXeuz.jpeg\"\n",
        "h = {\n",
        "    \"User-Agent\":\"Mozilla/5.0 (Windows NT 10.0; Win64; x64) AppleWebKit/537.36 (KHTML, like Gecko) Chrome/138.0.0.0 Safari/537.36 Edg/138.0.0.0\",\n",
        "}\n",
        "# !!!!!! 如果非純文字: stream=True\n",
        "resp = requests.get(url, headers=h, stream=True)\n",
        "content = resp.raw.read()\n",
        "with open(\"img.jpeg\", \"wb\") as f:\n",
        "    f.write(content)\n",
        "print(type(content))"
      ],
      "metadata": {
        "colab": {
          "base_uri": "https://localhost:8080/"
        },
        "id": "hV_ErMZRTJSG",
        "outputId": "0eed9614-c4bc-45ac-9737-d60bf90e81cd"
      },
      "execution_count": null,
      "outputs": [
        {
          "output_type": "stream",
          "name": "stdout",
          "text": [
            "<class 'bytes'>\n"
          ]
        }
      ]
    },
    {
      "cell_type": "code",
      "source": [],
      "metadata": {
        "id": "bBQrtMYiTZAi"
      },
      "execution_count": null,
      "outputs": []
    }
  ]
}