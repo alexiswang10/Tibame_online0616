{
  "nbformat": 4,
  "nbformat_minor": 0,
  "metadata": {
    "colab": {
      "provenance": [],
      "include_colab_link": true
    },
    "kernelspec": {
      "name": "python3",
      "display_name": "Python 3"
    },
    "language_info": {
      "name": "python"
    }
  },
  "cells": [
    {
      "cell_type": "markdown",
      "metadata": {
        "id": "view-in-github",
        "colab_type": "text"
      },
      "source": [
        "<a href=\"https://colab.research.google.com/github/alexiswang10/Tibame_online0616/blob/main/tibame_night_0701.ipynb\" target=\"_parent\"><img src=\"https://colab.research.google.com/assets/colab-badge.svg\" alt=\"Open In Colab\"/></a>"
      ]
    },
    {
      "cell_type": "code",
      "source": [
        "# demo how to install new lib in colab\n",
        "!pip install schedule"
      ],
      "metadata": {
        "colab": {
          "base_uri": "https://localhost:8080/"
        },
        "id": "VP0rEBI9uPRS",
        "outputId": "17da4951-71f0-43a3-ad01-9701dfb2605f"
      },
      "execution_count": null,
      "outputs": [
        {
          "output_type": "stream",
          "name": "stdout",
          "text": [
            "Collecting schedule\n",
            "  Downloading schedule-1.2.2-py3-none-any.whl.metadata (3.8 kB)\n",
            "Downloading schedule-1.2.2-py3-none-any.whl (12 kB)\n",
            "Installing collected packages: schedule\n",
            "Successfully installed schedule-1.2.2\n"
          ]
        }
      ]
    },
    {
      "cell_type": "code",
      "execution_count": null,
      "metadata": {
        "id": "V5uFMBh1s7yj"
      },
      "outputs": [],
      "source": [
        "import json\n",
        "import urllib.request as req\n",
        "import pandas as pd\n",
        "\n",
        "url = \"https://api.gamer.com.tw/anime/v1/danmu.php?videoSn=36632&geo=TW%2CHK\"\n",
        "f = req.urlopen(url)\n",
        "content = f.read()\n",
        "content_converted = json.loads(content)\n",
        "data = content_converted[\"data\"]\n",
        "danmu_list = data[\"danmu\"]\n",
        "\n",
        "# 型態轉換: danmu_list(list) -> DataFrame(pandas自定義的表格型態)\n",
        "df = pd.DataFrame(danmu_list)\n",
        "# 如果你不需要列標籤 index=False\n",
        "df.to_csv(\"danmu.csv\", encoding=\"utf-8\")\n",
        "df.to_excel(\"danmu.xlsx\")"
      ]
    }
  ]
}