{
  "nbformat": 4,
  "nbformat_minor": 0,
  "metadata": {
    "colab": {
      "provenance": [],
      "include_colab_link": true
    },
    "kernelspec": {
      "name": "python3",
      "display_name": "Python 3"
    },
    "language_info": {
      "name": "python"
    }
  },
  "cells": [
    {
      "cell_type": "markdown",
      "metadata": {
        "id": "view-in-github",
        "colab_type": "text"
      },
      "source": [
        "<a href=\"https://colab.research.google.com/github/alexiswang10/Tibame_online0616/blob/main/%E3%80%8Ctibame_20250712_ipynb%E3%80%8D%E7%9A%84%E5%89%AF%E6%9C%AC.ipynb\" target=\"_parent\"><img src=\"https://colab.research.google.com/assets/colab-badge.svg\" alt=\"Open In Colab\"/></a>"
      ]
    },
    {
      "cell_type": "code",
      "execution_count": null,
      "metadata": {
        "id": "DtGDZjGfMBs3"
      },
      "outputs": [],
      "source": [
        "# os.path\n",
        "import os\n",
        "if not os.path.exists(\"a\"):\n",
        "    os.makedirs(\"a\")"
      ]
    },
    {
      "cell_type": "code",
      "source": [
        "# 第三方函式庫: requests\n",
        "import requests\n",
        "\n",
        "url = \"https://tabelog.com/tw/tokyo/rstLst/?SrtT=rt\"\n",
        "# urlopen -> requests.get\n",
        "resp = requests.get(url)\n",
        "# content = resp.read()\n",
        "content = resp.text\n",
        "print(content)"
      ],
      "metadata": {
        "id": "XxG5qG6LOuG4"
      },
      "execution_count": null,
      "outputs": []
    }
  ]
}