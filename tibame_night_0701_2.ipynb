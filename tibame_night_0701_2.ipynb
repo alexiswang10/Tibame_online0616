{
  "nbformat": 4,
  "nbformat_minor": 0,
  "metadata": {
    "colab": {
      "provenance": [],
      "include_colab_link": true
    },
    "kernelspec": {
      "name": "python3",
      "display_name": "Python 3"
    },
    "language_info": {
      "name": "python"
    }
  },
  "cells": [
    {
      "cell_type": "markdown",
      "metadata": {
        "id": "view-in-github",
        "colab_type": "text"
      },
      "source": [
        "<a href=\"https://colab.research.google.com/github/alexiswang10/Tibame_online0616/blob/main/tibame_night_0701_2.ipynb\" target=\"_parent\"><img src=\"https://colab.research.google.com/assets/colab-badge.svg\" alt=\"Open In Colab\"/></a>"
      ]
    },
    {
      "cell_type": "markdown",
      "source": [
        "\n",
        "\n",
        "```\n",
        "HTML格式(網頁格式)\n",
        "\n",
        "定義區塊(長方形)\n",
        "\n",
        "<a href=\"網址\"> -> start\n",
        "    AIGRE DOUCE\n",
        "</a> -> end\n",
        "\n",
        "1. 名字: 決定到底是什麼用途\n",
        "a: 超連結  img: 圖片  video: 影片\n",
        "\n",
        "2. 屬性: 決定細節(屬姓名=\"值\")\n",
        "a href=\"網址\"\n",
        "img/video src=\"網址\"\n",
        "\n",
        "3. 顯示文字:\n",
        "\n",
        "```\n",
        "\n"
      ],
      "metadata": {
        "id": "lzDvyNhRG8fa"
      }
    },
    {
      "cell_type": "markdown",
      "source": [
        "\n",
        "\n",
        "```\n",
        "前端:\n",
        "1. 呈現回應\n",
        "a. HTML: 回應的內容(O)\n",
        "b. CSS: 針對HTML做出排版(O)\n",
        "c. JavaScript: 網頁的動態(x)\n",
        "\n",
        "後端:\n",
        "1. 接收網址\n",
        "2. 根據網址做出對應處理(查詢資料庫...)\n",
        "3. 把回應丟回\n",
        "\n",
        "\n",
        "css語法:\n",
        "定位區塊 加上排版\n",
        "1. 利用區塊的html名字\n",
        "a{\n",
        "    background-color:pink\n",
        "}\n",
        "\n",
        "2. 在html區塊加上通用排版屬性(分類)\n",
        "class=\"分類1 分類2 分類3\"\n",
        ".分類1{\n",
        "}\n",
        "\n",
        "e.g.\n",
        ".js-thumbnail-img{\n",
        "    border-radius:50%\n",
        "}\n",
        "\n",
        "3. 在html區塊加上通用排版屬性(id)\n",
        "id=\"不重複的值\"\n",
        "#id{\n",
        "}\n",
        "\n",
        "```\n",
        "\n"
      ],
      "metadata": {
        "id": "rwoU0NbHLr27"
      }
    },
    {
      "cell_type": "code",
      "execution_count": null,
      "metadata": {
        "id": "cNnWAhoZG5yN"
      },
      "outputs": [],
      "source": []
    }
  ]
}