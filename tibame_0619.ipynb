{
  "nbformat": 4,
  "nbformat_minor": 0,
  "metadata": {
    "colab": {
      "provenance": [],
      "authorship_tag": "ABX9TyPFNvAS9AZjF00iwj924dZo",
      "include_colab_link": true
    },
    "kernelspec": {
      "name": "python3",
      "display_name": "Python 3"
    },
    "language_info": {
      "name": "python"
    }
  },
  "cells": [
    {
      "cell_type": "markdown",
      "metadata": {
        "id": "view-in-github",
        "colab_type": "text"
      },
      "source": [
        "<a href=\"https://colab.research.google.com/github/Elwing-Chou/tibame_online_0616/blob/main/tibame_0619.ipynb\" target=\"_parent\"><img src=\"https://colab.research.google.com/assets/colab-badge.svg\" alt=\"Open In Colab\"/></a>"
      ]
    },
    {
      "cell_type": "markdown",
      "source": [
        "\n",
        "\n",
        "```\n",
        "迴圈的累積\n",
        "- 你發覺你在做事情的時候需要記得東西\n",
        "  就準備一組名字=值在迴圈的外面\n",
        "\n",
        "```\n",
        "\n"
      ],
      "metadata": {
        "id": "U0PUg4kew40E"
      }
    },
    {
      "cell_type": "code",
      "execution_count": null,
      "metadata": {
        "id": "EskhES-Ow1Wv"
      },
      "outputs": [],
      "source": [
        "total = 0\n",
        "i = 0\n",
        "while i < 10:\n",
        "    total = total + (i + 1)\n",
        "    print(total)\n",
        "    i = i + 1\n",
        "print(\"!!!!!\")"
      ]
    },
    {
      "cell_type": "code",
      "source": [
        "a = 328\n",
        "b = 8\n",
        "total = 0\n",
        "\n",
        "a_str = str(a)\n",
        "i = 0\n",
        "while i < len(a_str):\n",
        "    i = i + 1"
      ],
      "metadata": {
        "colab": {
          "base_uri": "https://localhost:8080/"
        },
        "id": "PcYxhHJkzmmI",
        "outputId": "83782167-5b0c-495e-928f-06d8686ffa0d"
      },
      "execution_count": 3,
      "outputs": [
        {
          "output_type": "execute_result",
          "data": {
            "text/plain": [
              "2624"
            ]
          },
          "metadata": {},
          "execution_count": 3
        }
      ]
    },
    {
      "cell_type": "code",
      "source": [
        "10 ** 0"
      ],
      "metadata": {
        "colab": {
          "base_uri": "https://localhost:8080/"
        },
        "id": "7l88dCzF0PDG",
        "outputId": "39cfdcd1-dc10-4935-ab5f-76d6ebf2bd52"
      },
      "execution_count": 7,
      "outputs": [
        {
          "output_type": "execute_result",
          "data": {
            "text/plain": [
              "1"
            ]
          },
          "metadata": {},
          "execution_count": 7
        }
      ]
    },
    {
      "cell_type": "code",
      "source": [
        "# 回傳值: 做完這個功能得到的\"新的\"回覆\n",
        "# 功能你要注意的就是\"參數\" 和 \"回傳值\"\n",
        "a = 4.2\n",
        "b = int(a)\n",
        "print(a)\n",
        "a = int(a)"
      ],
      "metadata": {
        "colab": {
          "base_uri": "https://localhost:8080/"
        },
        "id": "LQorWCdG0dOQ",
        "outputId": "d9ef3be2-8287-4002-dda1-f2b86007d476"
      },
      "execution_count": 10,
      "outputs": [
        {
          "output_type": "stream",
          "name": "stdout",
          "text": [
            "4.2\n"
          ]
        }
      ]
    },
    {
      "cell_type": "code",
      "source": [
        "a = 328\n",
        "a_str = str(a)\n",
        "i = 0\n",
        "a_str[len(a_str)-i-1]"
      ],
      "metadata": {
        "id": "yWCJBJLg1VWz"
      },
      "execution_count": null,
      "outputs": []
    }
  ]
}