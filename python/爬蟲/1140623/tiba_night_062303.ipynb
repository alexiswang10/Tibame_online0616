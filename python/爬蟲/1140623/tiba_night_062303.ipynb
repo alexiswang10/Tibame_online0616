{
  "nbformat": 4,
  "nbformat_minor": 0,
  "metadata": {
    "colab": {
      "provenance": [],
      "name": "tiba_night_062303.ipynb",
      "include_colab_link": true
    },
    "kernelspec": {
      "name": "python3",
      "display_name": "Python 3"
    },
    "language_info": {
      "name": "python"
    }
  },
  "cells": [
    {
      "cell_type": "markdown",
      "metadata": {
        "id": "view-in-github",
        "colab_type": "text"
      },
      "source": [
        "<a href=\"https://colab.research.google.com/github/alexiswang10/Tibame_online0616/blob/main/tiba_night_062303.ipynb\" target=\"_parent\"><img src=\"https://colab.research.google.com/assets/colab-badge.svg\" alt=\"Open In Colab\"/></a>"
      ]
    },
    {
      "cell_type": "markdown",
      "source": [
        "WIN: -headers \"Origin: https://ani.gamer.com.tw\" -i \"\" anime.mp4\n",
        "\n",
        "MAC: -headers 'Origin: https://ani.gamer.com.tw' -i '' anime.mp4"
      ],
      "metadata": {
        "id": "IzUl47NjveRg"
      }
    },
    {
      "cell_type": "code",
      "source": [
        "f = open(\"a.txt\", \"w\", encoding=\"utf-8\")\n",
        "# 專屬功能 write(f, \"zzzz\") -> f.write(\"zzz\")\n",
        "f.write(\"zzzz\")\n",
        "# close(f) -> f.close()\n",
        "f.close()"
      ],
      "metadata": {
        "id": "dPpZ_POr3Lls"
      },
      "execution_count": null,
      "outputs": []
    },
    {
      "cell_type": "code",
      "source": [
        "f = open(\"a.txt\", \"r\", encoding=\"utf-8\")\n",
        "# content = read(f) -> content = f.read()\n",
        "content = f.read()\n",
        "print(content)\n",
        "f.close()"
      ],
      "metadata": {
        "colab": {
          "base_uri": "https://localhost:8080/"
        },
        "id": "SRe8D7yv3_O5",
        "outputId": "d3402983-424f-45ef-f0b5-bf42ee8326a4"
      },
      "execution_count": null,
      "outputs": [
        {
          "output_type": "stream",
          "name": "stdout",
          "text": [
            "zzzz\n"
          ]
        }
      ]
    },
    {
      "cell_type": "markdown",
      "source": [
        "\n",
        "\n",
        "```\n",
        "list+dict: JSON格式\n",
        "班上全部同學: [\n",
        "    {\n",
        "        兄弟姊妹:[\n",
        "            {\n",
        "                姓名:xxx\n",
        "                電話:xxx\n",
        "            }\n",
        "        ]\n",
        "    },\n",
        "    {},\n",
        "    {}\n",
        "\n",
        "]\n",
        "\n",
        "```\n",
        "\n"
      ],
      "metadata": {
        "id": "sb42pCZC7l-S"
      }
    },
    {
      "cell_type": "code",
      "source": [
        "import json\n",
        "import urllib.request as req\n",
        "\n",
        "url = \"https://api.gamer.com.tw/anime/v1/danmu.php?videoSn=36632&geo=TW%2CHK\"\n",
        "f = req.urlopen(url)\n",
        "content = f.read()\n",
        "# bytes型態: 原始字串 01011..\n",
        "# print(type(content))\n",
        "# content_converted: dict\n",
        "content_converted = json.loads(content)\n",
        "# print(type(content_converted))\n",
        "# data: dict\n",
        "data = content_converted[\"data\"]\n",
        "# danmu_list: list\n",
        "danmu_list = data[\"danmu\"]"
      ],
      "metadata": {
        "colab": {
          "base_uri": "https://localhost:8080/"
        },
        "id": "uYrLeEz75A79",
        "outputId": "f759c4de-133a-432f-b38b-0c46d64dd3ce"
      },
      "execution_count": null,
      "outputs": [
        {
          "output_type": "stream",
          "name": "stdout",
          "text": [
            "<class 'dict'>\n"
          ]
        }
      ]
    }
  ]
}
